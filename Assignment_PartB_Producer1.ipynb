{
 "cells": [
  {
   "cell_type": "code",
   "execution_count": null,
   "id": "3c82b259",
   "metadata": {},
   "outputs": [],
   "source": [
    "import csv\n",
    "from time import sleep\n",
    "from json import dumps\n",
    "from kafka3 import KafkaProducer\n",
    "import random\n",
    "import datetime as dt\n",
    "from datetime import datetime\n",
    "import dateutil.parser as parser "
   ]
  },
  {
   "cell_type": "code",
   "execution_count": null,
   "id": "cb0a7348",
   "metadata": {},
   "outputs": [],
   "source": [
    "host_ip = \"118.139.86.28\""
   ]
  },
  {
   "cell_type": "code",
   "execution_count": null,
   "id": "1640efb3",
   "metadata": {},
   "outputs": [],
   "source": [
    "#reading the csv file\n",
    "with open (\"climate_streaming.csv\", \"r\") as file:\n",
    "    climate_file = file.readlines()\n",
    "    climate_file = [line.strip() for line in climate_file]\n",
    "    for i in range(len(climate_file)):\n",
    "        climate_file[i] = climate_file[i].split(\",\")"
   ]
  },
  {
   "cell_type": "code",
   "execution_count": null,
   "id": "9fef3d09",
   "metadata": {},
   "outputs": [],
   "source": [
    "#adds a day to the date inputted\n",
    "def addOneDay(currentDay):\n",
    "    currDate = currentDay\n",
    "    \n",
    "    currDate = datetime.strptime(currDate, '%Y-%m-%dT%H:%M:%S')\n",
    "    newDate = currDate + dt.timedelta(days = 1)\n",
    "    newDate = newDate.strftime('%Y/%-m/%-d')\n",
    "    newDate = parser.parse(newDate)\n",
    "    \n",
    "    return newDate.isoformat()\n"
   ]
  },
  {
   "cell_type": "code",
   "execution_count": null,
   "id": "ed7e03fd",
   "metadata": {},
   "outputs": [],
   "source": [
    "#Set up KafkaProducer\n",
    "def connect_kafka_producer():\n",
    "    _producer = None\n",
    "    try: \n",
    "        _producer = KafkaProducer(bootstrap_servers=[f'{host_ip}:9092'],\n",
    "                                  value_serializer=lambda x:dumps(x).encode('ascii'),\n",
    "                                  api_version=(0, 10),\n",
    "                                 client_id = \"climate\")\n",
    "        \n",
    "    except Exception as ex:\n",
    "        print(\"Exception while connecting Kafka\")\n",
    "        print(str(ex))\n",
    "        \n",
    "    finally:\n",
    "        return _producer"
   ]
  },
  {
   "cell_type": "code",
   "execution_count": null,
   "id": "fb4e469b",
   "metadata": {},
   "outputs": [],
   "source": [
    "#Function for publishing message\n",
    "def publish_message(producer_instance, topic_name, key, data):\n",
    "    try:\n",
    "        key_bytes = bytes(key, encoding = 'utf-8')\n",
    "        \n",
    "        producer_instance.send(topic_name, key=key_bytes, value=data)\n",
    "        producer_instance.flush()\n",
    "        \n",
    "        print(\"Message successfully publish. Data: \" + str(data))\n",
    "        \n",
    "    except Exception as ex:\n",
    "        print('Exception in publishing message.')\n",
    "        print(str(ex))\n",
    "        "
   ]
  },
  {
   "cell_type": "code",
   "execution_count": null,
   "id": "ddbf6dc6",
   "metadata": {
    "scrolled": true
   },
   "outputs": [],
   "source": [
    "topic = \"climateTopic\"\n",
    "\n",
    "print(\"Publishing records...\")\n",
    "\n",
    "producer = connect_kafka_producer()\n",
    "prod_id = producer.config['client_id']\n",
    "\n",
    "# latest date in climateLst:\n",
    "newDate = '2023-01-01T00:00:00'\n",
    "\n",
    "#While loop will keep publishing the data \n",
    "while True:\n",
    "\n",
    "    randIndex = random.randint(1,len(climate_file)-1)\n",
    "\n",
    "    newDate = addOneDay(newDate)\n",
    "    row = climate_file[randIndex]\n",
    "\n",
    "    climate_record = {\n",
    "        \"producer_info\": prod_id,\n",
    "        \"station_id\": int(\"220468\"),\n",
    "        \"date\": newDate,\n",
    "        \"latitude\": float(row[0]),\n",
    "        \"longitude\": float(row[1]),\n",
    "        \"air_temperature\": int(row[2]),\n",
    "        \"relative_humidity\": float(row[3]),\n",
    "        \"windspeed_knots\": float(row[4]),\n",
    "        \"max_wind_speed\": float(row[5]),\n",
    "        \"precipitation\": row[6],\n",
    "        \"prec_val\": float(row[6][1:5]),\n",
    "        \"prec_type\": row[6][5],\n",
    "        \"GHI\": int(row[7])\n",
    "    }\n",
    "\n",
    "    publish_message(producer, topic, 'climatedata', climate_record)\n",
    "    sleep(10) #delay it to produce every 10 seconds \n",
    "    \n"
   ]
  }
 ],
 "metadata": {
  "kernelspec": {
   "display_name": "Python 3 (ipykernel)",
   "language": "python",
   "name": "python3"
  },
  "language_info": {
   "codemirror_mode": {
    "name": "ipython",
    "version": 3
   },
   "file_extension": ".py",
   "mimetype": "text/x-python",
   "name": "python",
   "nbconvert_exporter": "python",
   "pygments_lexer": "ipython3",
   "version": "3.8.16"
  }
 },
 "nbformat": 4,
 "nbformat_minor": 5
}

{
 "cells": [
  {
   "cell_type": "code",
   "execution_count": null,
   "id": "d9835e12",
   "metadata": {},
   "outputs": [],
   "source": [
    "from kafka3 import KafkaProducer\n",
    "from datetime import datetime\n",
    "from time import sleep\n",
    "from json import dumps\n",
    "import datetime as dt\n",
    "import random\n",
    "import csv"
   ]
  },
  {
   "cell_type": "code",
   "execution_count": null,
   "id": "def2a7cf",
   "metadata": {},
   "outputs": [],
   "source": [
    "host_ip = \"118.139.86.28\""
   ]
  },
  {
   "cell_type": "code",
   "execution_count": null,
   "id": "c32b6d44",
   "metadata": {},
   "outputs": [],
   "source": [
    "#reading the csv file\n",
    "with open (\"hotspot_AQUA_streaming.csv\", \"r\") as file:\n",
    "    AQUA_file = file.readlines()\n",
    "    AQUA_file = [line.strip() for line in AQUA_file]\n",
    "    for i in range(len(AQUA_file)):\n",
    "        AQUA_file[i] = AQUA_file[i].split(\",\")"
   ]
  },
  {
   "cell_type": "code",
   "execution_count": null,
   "id": "a4aef989",
   "metadata": {},
   "outputs": [],
   "source": [
    "#Create a Kafka producer\n",
    "def connect_kafka_producer():\n",
    "    _producer = None\n",
    "    try: \n",
    "        _producer = KafkaProducer(bootstrap_servers=[f'{host_ip}:9092'],\n",
    "                                  value_serializer=lambda x:dumps(x).encode('ascii'),\n",
    "                                  api_version=(0, 10),\n",
    "                                 client_id = (\"hotspotAQUA\"))\n",
    "        \n",
    "    except Exception as ex:\n",
    "        print(\"Exception while connecting Kafka\")\n",
    "        print(str(ex))\n",
    "        \n",
    "    finally:\n",
    "        return _producer\n",
    "\n",
    "#publish messages\n",
    "def publish_message(producer_instance, topic_name, key, data):\n",
    "    try:\n",
    "        key_bytes = bytes(key, encoding = 'utf-8')\n",
    "        \n",
    "        producer_instance.send(topic_name, key=key_bytes, value=data)\n",
    "        producer_instance.flush()\n",
    "        \n",
    "        print(\"Message successfully publish. Data: \" + str(data))\n",
    "        \n",
    "    except Exception as ex:\n",
    "        print('Exception in publishing message.')\n",
    "        print(str(ex))"
   ]
  },
  {
   "cell_type": "code",
   "execution_count": null,
   "id": "5c4e30de",
   "metadata": {},
   "outputs": [],
   "source": [
    "def addDateTime(currDateTime):\n",
    "    currDateTime = datetime.strptime(currDateTime, '%Y-%m-%dT%H:%M:%S')\n",
    "    newDateTime = currDateTime + dt.timedelta(hours = 4, minutes=48)\n",
    "    \n",
    "    return newDateTime.isoformat()"
   ]
  },
  {
   "cell_type": "code",
   "execution_count": null,
   "id": "3a6b5177",
   "metadata": {
    "scrolled": false
   },
   "outputs": [],
   "source": [
    "topic = \"hotspotTopic\"\n",
    "# topic = \"fires\"\n",
    "\n",
    "print(\"Publishing records...\")\n",
    "producer = connect_kafka_producer()\n",
    "prod_id = producer.config[\"client_id\"]\n",
    "\n",
    "newDateTime = '2023-01-02T00:00:00'\n",
    "\n",
    "while True:\n",
    "    randIndex = random.randint(1,len(AQUA_file)-1)\n",
    "    newDateTime = addDateTime(newDateTime)\n",
    "    row = AQUA_file[randIndex]\n",
    "    \n",
    "    hotspotAQUA_record = {\n",
    "        \"producer_info\": prod_id,\n",
    "        \"datetime\": newDateTime,\n",
    "        \"latitude\": float(row[0]),\n",
    "        \"longitude\": float(row[1]),\n",
    "        \"confidence\": int(row[2]),\n",
    "        \"surface_temperature\": int(row[3])\n",
    "    }\n",
    "    publish_message(producer, topic, 'hotspotAQUA', hotspotAQUA_record)\n",
    "    sleep(2) #produce every 2 seconds "
   ]
  }
 ],
 "metadata": {
  "kernelspec": {
   "display_name": "Python 3 (ipykernel)",
   "language": "python",
   "name": "python3"
  },
  "language_info": {
   "codemirror_mode": {
    "name": "ipython",
    "version": 3
   },
   "file_extension": ".py",
   "mimetype": "text/x-python",
   "name": "python",
   "nbconvert_exporter": "python",
   "pygments_lexer": "ipython3",
   "version": "3.8.16"
  }
 },
 "nbformat": 4,
 "nbformat_minor": 5
}
